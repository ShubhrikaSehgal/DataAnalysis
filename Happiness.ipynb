{
 "cells": [
  {
   "cell_type": "code",
   "execution_count": 77,
   "metadata": {
    "scrolled": true
   },
   "outputs": [],
   "source": [
    "%matplotlib inline\n",
    "import pandas as pd\n",
    "import matplotlib.pyplot as plt\n",
    "import seaborn as sns\n",
    "import pylab as pl\n",
    "import numpy as np\n",
    "from pandas.plotting import scatter_matrix\n",
    "from matplotlib import cm\n",
    "from sklearn.ensemble import RandomForestClassifier\n",
    "file_errors_location = r'C:\\Users\\16303\\Documents\\Semester 1\\Data Analytics\\HW2\\WHQ.xlsx'\n",
    "df = pd.read_excel(file_errors_location)"
   ]
  },
  {
   "cell_type": "code",
   "execution_count": 53,
   "metadata": {},
   "outputs": [
    {
     "data": {
      "text/html": [
       "<div>\n",
       "<style scoped>\n",
       "    .dataframe tbody tr th:only-of-type {\n",
       "        vertical-align: middle;\n",
       "    }\n",
       "\n",
       "    .dataframe tbody tr th {\n",
       "        vertical-align: top;\n",
       "    }\n",
       "\n",
       "    .dataframe thead th {\n",
       "        text-align: right;\n",
       "    }\n",
       "</style>\n",
       "<table border=\"1\" class=\"dataframe\">\n",
       "  <thead>\n",
       "    <tr style=\"text-align: right;\">\n",
       "      <th></th>\n",
       "      <th>Country name</th>\n",
       "      <th>Year</th>\n",
       "      <th>Happiness Scale</th>\n",
       "      <th>Happiness Index</th>\n",
       "      <th>Log GDP per capita</th>\n",
       "      <th>Social support</th>\n",
       "      <th>Healthy life expectancy at birth</th>\n",
       "      <th>Freedom to make life choices</th>\n",
       "      <th>Generosity</th>\n",
       "      <th>Perceptions of corruption</th>\n",
       "      <th>Confidence in national government</th>\n",
       "      <th>Democratic Quality</th>\n",
       "    </tr>\n",
       "  </thead>\n",
       "  <tbody>\n",
       "    <tr>\n",
       "      <th>0</th>\n",
       "      <td>Afghanistan</td>\n",
       "      <td>2017</td>\n",
       "      <td>Low</td>\n",
       "      <td>2.661718</td>\n",
       "      <td>7.497755</td>\n",
       "      <td>0.490880</td>\n",
       "      <td>52.799999</td>\n",
       "      <td>0.427011</td>\n",
       "      <td>-0.112198</td>\n",
       "      <td>0.954393</td>\n",
       "      <td>0.261179</td>\n",
       "      <td>-1.886566</td>\n",
       "    </tr>\n",
       "    <tr>\n",
       "      <th>1</th>\n",
       "      <td>Central African Republic</td>\n",
       "      <td>2016</td>\n",
       "      <td>Low</td>\n",
       "      <td>2.693061</td>\n",
       "      <td>6.465948</td>\n",
       "      <td>0.290184</td>\n",
       "      <td>44.900002</td>\n",
       "      <td>0.624057</td>\n",
       "      <td>0.053440</td>\n",
       "      <td>0.859073</td>\n",
       "      <td>0.748755</td>\n",
       "      <td>-1.437883</td>\n",
       "    </tr>\n",
       "    <tr>\n",
       "      <th>2</th>\n",
       "      <td>Afghanistan</td>\n",
       "      <td>2018</td>\n",
       "      <td>Low</td>\n",
       "      <td>2.694303</td>\n",
       "      <td>7.494588</td>\n",
       "      <td>0.507516</td>\n",
       "      <td>52.599998</td>\n",
       "      <td>0.373536</td>\n",
       "      <td>-0.084888</td>\n",
       "      <td>0.927606</td>\n",
       "      <td>0.364666</td>\n",
       "      <td>NaN</td>\n",
       "    </tr>\n",
       "    <tr>\n",
       "      <th>3</th>\n",
       "      <td>Liberia</td>\n",
       "      <td>2015</td>\n",
       "      <td>Low</td>\n",
       "      <td>2.701591</td>\n",
       "      <td>6.665998</td>\n",
       "      <td>0.637666</td>\n",
       "      <td>53.700001</td>\n",
       "      <td>0.671431</td>\n",
       "      <td>-0.014139</td>\n",
       "      <td>0.902673</td>\n",
       "      <td>0.472788</td>\n",
       "      <td>-0.519526</td>\n",
       "    </tr>\n",
       "    <tr>\n",
       "      <th>4</th>\n",
       "      <td>South Sudan</td>\n",
       "      <td>2017</td>\n",
       "      <td>Low</td>\n",
       "      <td>2.816622</td>\n",
       "      <td>NaN</td>\n",
       "      <td>0.556823</td>\n",
       "      <td>51.000000</td>\n",
       "      <td>0.456011</td>\n",
       "      <td>NaN</td>\n",
       "      <td>0.761270</td>\n",
       "      <td>0.461551</td>\n",
       "      <td>-2.138769</td>\n",
       "    </tr>\n",
       "  </tbody>\n",
       "</table>\n",
       "</div>"
      ],
      "text/plain": [
       "               Country name  Year Happiness Scale  Happiness Index  \\\n",
       "0               Afghanistan  2017             Low         2.661718   \n",
       "1  Central African Republic  2016             Low         2.693061   \n",
       "2               Afghanistan  2018             Low         2.694303   \n",
       "3                   Liberia  2015             Low         2.701591   \n",
       "4               South Sudan  2017             Low         2.816622   \n",
       "\n",
       "   Log GDP per capita  Social support  Healthy life expectancy at birth  \\\n",
       "0            7.497755        0.490880                         52.799999   \n",
       "1            6.465948        0.290184                         44.900002   \n",
       "2            7.494588        0.507516                         52.599998   \n",
       "3            6.665998        0.637666                         53.700001   \n",
       "4                 NaN        0.556823                         51.000000   \n",
       "\n",
       "   Freedom to make life choices  Generosity  Perceptions of corruption  \\\n",
       "0                      0.427011   -0.112198                   0.954393   \n",
       "1                      0.624057    0.053440                   0.859073   \n",
       "2                      0.373536   -0.084888                   0.927606   \n",
       "3                      0.671431   -0.014139                   0.902673   \n",
       "4                      0.456011         NaN                   0.761270   \n",
       "\n",
       "   Confidence in national government  Democratic Quality  \n",
       "0                           0.261179           -1.886566  \n",
       "1                           0.748755           -1.437883  \n",
       "2                           0.364666                 NaN  \n",
       "3                           0.472788           -0.519526  \n",
       "4                           0.461551           -2.138769  "
      ]
     },
     "execution_count": 53,
     "metadata": {},
     "output_type": "execute_result"
    }
   ],
   "source": [
    "df.head()"
   ]
  },
  {
   "cell_type": "code",
   "execution_count": 54,
   "metadata": {},
   "outputs": [
    {
     "data": {
      "text/plain": [
       "(713, 12)"
      ]
     },
     "execution_count": 54,
     "metadata": {},
     "output_type": "execute_result"
    }
   ],
   "source": [
    "df.shape"
   ]
  },
  {
   "cell_type": "code",
   "execution_count": 55,
   "metadata": {},
   "outputs": [],
   "source": [
    "df=df.dropna()"
   ]
  },
  {
   "cell_type": "code",
   "execution_count": 56,
   "metadata": {},
   "outputs": [
    {
     "data": {
      "text/plain": [
       "(507, 12)"
      ]
     },
     "execution_count": 56,
     "metadata": {},
     "output_type": "execute_result"
    }
   ],
   "source": [
    "df.shape"
   ]
  },
  {
   "cell_type": "code",
   "execution_count": 57,
   "metadata": {},
   "outputs": [
    {
     "data": {
      "text/html": [
       "<div>\n",
       "<style scoped>\n",
       "    .dataframe tbody tr th:only-of-type {\n",
       "        vertical-align: middle;\n",
       "    }\n",
       "\n",
       "    .dataframe tbody tr th {\n",
       "        vertical-align: top;\n",
       "    }\n",
       "\n",
       "    .dataframe thead th {\n",
       "        text-align: right;\n",
       "    }\n",
       "</style>\n",
       "<table border=\"1\" class=\"dataframe\">\n",
       "  <thead>\n",
       "    <tr style=\"text-align: right;\">\n",
       "      <th></th>\n",
       "      <th>Year</th>\n",
       "      <th>Happiness Index</th>\n",
       "      <th>Log GDP per capita</th>\n",
       "      <th>Social support</th>\n",
       "      <th>Healthy life expectancy at birth</th>\n",
       "      <th>Freedom to make life choices</th>\n",
       "      <th>Generosity</th>\n",
       "      <th>Perceptions of corruption</th>\n",
       "      <th>Confidence in national government</th>\n",
       "      <th>Democratic Quality</th>\n",
       "    </tr>\n",
       "  </thead>\n",
       "  <tbody>\n",
       "    <tr>\n",
       "      <th>count</th>\n",
       "      <td>507.000000</td>\n",
       "      <td>507.000000</td>\n",
       "      <td>507.000000</td>\n",
       "      <td>507.000000</td>\n",
       "      <td>507.000000</td>\n",
       "      <td>507.000000</td>\n",
       "      <td>507.000000</td>\n",
       "      <td>507.000000</td>\n",
       "      <td>507.000000</td>\n",
       "      <td>507.000000</td>\n",
       "    </tr>\n",
       "    <tr>\n",
       "      <th>mean</th>\n",
       "      <td>2015.504931</td>\n",
       "      <td>5.413939</td>\n",
       "      <td>9.238503</td>\n",
       "      <td>0.806525</td>\n",
       "      <td>63.859354</td>\n",
       "      <td>0.756630</td>\n",
       "      <td>0.010771</td>\n",
       "      <td>0.741413</td>\n",
       "      <td>0.482506</td>\n",
       "      <td>-0.024570</td>\n",
       "    </tr>\n",
       "    <tr>\n",
       "      <th>std</th>\n",
       "      <td>1.123533</td>\n",
       "      <td>1.159876</td>\n",
       "      <td>1.195615</td>\n",
       "      <td>0.124141</td>\n",
       "      <td>7.375758</td>\n",
       "      <td>0.133467</td>\n",
       "      <td>0.161073</td>\n",
       "      <td>0.186627</td>\n",
       "      <td>0.195697</td>\n",
       "      <td>0.855764</td>\n",
       "    </tr>\n",
       "    <tr>\n",
       "      <th>min</th>\n",
       "      <td>2014.000000</td>\n",
       "      <td>2.661718</td>\n",
       "      <td>6.465948</td>\n",
       "      <td>0.290184</td>\n",
       "      <td>44.900002</td>\n",
       "      <td>0.303540</td>\n",
       "      <td>-0.291227</td>\n",
       "      <td>0.047311</td>\n",
       "      <td>0.084061</td>\n",
       "      <td>-2.132233</td>\n",
       "    </tr>\n",
       "    <tr>\n",
       "      <th>25%</th>\n",
       "      <td>2014.500000</td>\n",
       "      <td>4.512378</td>\n",
       "      <td>8.203515</td>\n",
       "      <td>0.739197</td>\n",
       "      <td>58.150000</td>\n",
       "      <td>0.662416</td>\n",
       "      <td>-0.099265</td>\n",
       "      <td>0.683304</td>\n",
       "      <td>0.325611</td>\n",
       "      <td>-0.641447</td>\n",
       "    </tr>\n",
       "    <tr>\n",
       "      <th>50%</th>\n",
       "      <td>2016.000000</td>\n",
       "      <td>5.362475</td>\n",
       "      <td>9.454056</td>\n",
       "      <td>0.832078</td>\n",
       "      <td>65.599998</td>\n",
       "      <td>0.775546</td>\n",
       "      <td>-0.017152</td>\n",
       "      <td>0.800893</td>\n",
       "      <td>0.468559</td>\n",
       "      <td>-0.085113</td>\n",
       "    </tr>\n",
       "    <tr>\n",
       "      <th>75%</th>\n",
       "      <td>2017.000000</td>\n",
       "      <td>6.254614</td>\n",
       "      <td>10.206539</td>\n",
       "      <td>0.906696</td>\n",
       "      <td>69.300003</td>\n",
       "      <td>0.861179</td>\n",
       "      <td>0.106516</td>\n",
       "      <td>0.865436</td>\n",
       "      <td>0.620620</td>\n",
       "      <td>0.702891</td>\n",
       "    </tr>\n",
       "    <tr>\n",
       "      <th>max</th>\n",
       "      <td>2017.000000</td>\n",
       "      <td>7.788252</td>\n",
       "      <td>11.460800</td>\n",
       "      <td>0.987343</td>\n",
       "      <td>76.500000</td>\n",
       "      <td>0.985178</td>\n",
       "      <td>0.667136</td>\n",
       "      <td>0.976340</td>\n",
       "      <td>0.993604</td>\n",
       "      <td>1.575009</td>\n",
       "    </tr>\n",
       "  </tbody>\n",
       "</table>\n",
       "</div>"
      ],
      "text/plain": [
       "              Year  Happiness Index  Log GDP per capita  Social support  \\\n",
       "count   507.000000       507.000000          507.000000      507.000000   \n",
       "mean   2015.504931         5.413939            9.238503        0.806525   \n",
       "std       1.123533         1.159876            1.195615        0.124141   \n",
       "min    2014.000000         2.661718            6.465948        0.290184   \n",
       "25%    2014.500000         4.512378            8.203515        0.739197   \n",
       "50%    2016.000000         5.362475            9.454056        0.832078   \n",
       "75%    2017.000000         6.254614           10.206539        0.906696   \n",
       "max    2017.000000         7.788252           11.460800        0.987343   \n",
       "\n",
       "       Healthy life expectancy at birth  Freedom to make life choices  \\\n",
       "count                        507.000000                    507.000000   \n",
       "mean                          63.859354                      0.756630   \n",
       "std                            7.375758                      0.133467   \n",
       "min                           44.900002                      0.303540   \n",
       "25%                           58.150000                      0.662416   \n",
       "50%                           65.599998                      0.775546   \n",
       "75%                           69.300003                      0.861179   \n",
       "max                           76.500000                      0.985178   \n",
       "\n",
       "       Generosity  Perceptions of corruption  \\\n",
       "count  507.000000                 507.000000   \n",
       "mean     0.010771                   0.741413   \n",
       "std      0.161073                   0.186627   \n",
       "min     -0.291227                   0.047311   \n",
       "25%     -0.099265                   0.683304   \n",
       "50%     -0.017152                   0.800893   \n",
       "75%      0.106516                   0.865436   \n",
       "max      0.667136                   0.976340   \n",
       "\n",
       "       Confidence in national government  Democratic Quality  \n",
       "count                         507.000000          507.000000  \n",
       "mean                            0.482506           -0.024570  \n",
       "std                             0.195697            0.855764  \n",
       "min                             0.084061           -2.132233  \n",
       "25%                             0.325611           -0.641447  \n",
       "50%                             0.468559           -0.085113  \n",
       "75%                             0.620620            0.702891  \n",
       "max                             0.993604            1.575009  "
      ]
     },
     "execution_count": 57,
     "metadata": {},
     "output_type": "execute_result"
    }
   ],
   "source": [
    "df.describe()"
   ]
  },
  {
   "cell_type": "code",
   "execution_count": 58,
   "metadata": {},
   "outputs": [
    {
     "data": {
      "text/plain": [
       "Index(['Country name', 'Year', 'Happiness Scale', 'Happiness Index',\n",
       "       'Log GDP per capita', 'Social support',\n",
       "       'Healthy life expectancy at birth', 'Freedom to make life choices',\n",
       "       'Generosity', 'Perceptions of corruption',\n",
       "       'Confidence in national government', 'Democratic Quality'],\n",
       "      dtype='object')"
      ]
     },
     "execution_count": 58,
     "metadata": {},
     "output_type": "execute_result"
    }
   ],
   "source": [
    "df.columns"
   ]
  },
  {
   "cell_type": "code",
   "execution_count": 59,
   "metadata": {},
   "outputs": [],
   "source": [
    "X = df.drop(['Happiness Scale','Country name','Happiness Index'],axis=1)\n",
    "y = df['Happiness Scale']"
   ]
  },
  {
   "cell_type": "code",
   "execution_count": 60,
   "metadata": {},
   "outputs": [],
   "source": [
    "from sklearn.model_selection import train_test_split\n",
    "\n",
    "#X_train, X_test, y_train, y_test = train_test_split(X, y, random_state=0)\n",
    "X_train, X_test, y_train, y_test = train_test_split(X, y, test_size=0.3, random_state=1)"
   ]
  },
  {
   "cell_type": "code",
   "execution_count": 61,
   "metadata": {},
   "outputs": [],
   "source": [
    "from sklearn.preprocessing import MinMaxScaler\n",
    "scaler = MinMaxScaler()\n",
    "X_train = scaler.fit_transform(X_train)\n",
    "X_test = scaler.transform(X_test)"
   ]
  },
  {
   "cell_type": "code",
   "execution_count": 62,
   "metadata": {},
   "outputs": [
    {
     "name": "stdout",
     "output_type": "stream",
     "text": [
      "Accuracy of Logistic regression classifier on training set: 0.75\n",
      "Accuracy of Logistic regression classifier on test set: 0.72\n"
     ]
    },
    {
     "name": "stderr",
     "output_type": "stream",
     "text": [
      "C:\\Users\\16303\\Anaconda3\\lib\\site-packages\\sklearn\\linear_model\\logistic.py:432: FutureWarning: Default solver will be changed to 'lbfgs' in 0.22. Specify a solver to silence this warning.\n",
      "  FutureWarning)\n",
      "C:\\Users\\16303\\Anaconda3\\lib\\site-packages\\sklearn\\linear_model\\logistic.py:469: FutureWarning: Default multi_class will be changed to 'auto' in 0.22. Specify the multi_class option to silence this warning.\n",
      "  \"this warning.\", FutureWarning)\n"
     ]
    }
   ],
   "source": [
    "from sklearn.linear_model import LogisticRegression\n",
    "\n",
    "logreg = LogisticRegression()\n",
    "logreg.fit(X_train, y_train)\n",
    "\n",
    "print('Accuracy of Logistic regression classifier on training set: {:.2f}'\n",
    "     .format(logreg.score(X_train, y_train)))\n",
    "print('Accuracy of Logistic regression classifier on test set: {:.2f}'\n",
    "     .format(logreg.score(X_test, y_test)))"
   ]
  },
  {
   "cell_type": "code",
   "execution_count": 63,
   "metadata": {},
   "outputs": [
    {
     "name": "stdout",
     "output_type": "stream",
     "text": [
      "Accuracy of Decision Tree classifier on training set: 1.00\n",
      "Accuracy of Decision Tree classifier on test set: 0.76\n"
     ]
    }
   ],
   "source": [
    "from sklearn.tree import DecisionTreeClassifier\n",
    "\n",
    "clf = DecisionTreeClassifier().fit(X_train, y_train)\n",
    "\n",
    "print('Accuracy of Decision Tree classifier on training set: {:.2f}'\n",
    "     .format(clf.score(X_train, y_train)))\n",
    "print('Accuracy of Decision Tree classifier on test set: {:.2f}'\n",
    "     .format(clf.score(X_test, y_test)))"
   ]
  },
  {
   "cell_type": "code",
   "execution_count": 64,
   "metadata": {},
   "outputs": [
    {
     "name": "stdout",
     "output_type": "stream",
     "text": [
      "Accuracy of Decision Tree classifier on training set: 0.81\n",
      "Accuracy of Decision Tree classifier on test set: 0.80\n"
     ]
    }
   ],
   "source": [
    "clf2 = DecisionTreeClassifier(max_depth=3).fit(X_train, y_train)\n",
    "print('Accuracy of Decision Tree classifier on training set: {:.2f}'\n",
    "     .format(clf2.score(X_train, y_train)))\n",
    "print('Accuracy of Decision Tree classifier on test set: {:.2f}'\n",
    "     .format(clf2.score(X_test, y_test)))"
   ]
  },
  {
   "cell_type": "code",
   "execution_count": 65,
   "metadata": {},
   "outputs": [
    {
     "name": "stdout",
     "output_type": "stream",
     "text": [
      "Accuracy of K-NN classifier on training set: 0.84\n",
      "Accuracy of K-NN classifier on test set: 0.73\n"
     ]
    }
   ],
   "source": [
    "from sklearn.neighbors import KNeighborsClassifier\n",
    "\n",
    "knn = KNeighborsClassifier()\n",
    "knn.fit(X_train, y_train)\n",
    "print('Accuracy of K-NN classifier on training set: {:.2f}'\n",
    "     .format(knn.score(X_train, y_train)))\n",
    "print('Accuracy of K-NN classifier on test set: {:.2f}'\n",
    "     .format(knn.score(X_test, y_test)))"
   ]
  },
  {
   "cell_type": "code",
   "execution_count": 66,
   "metadata": {},
   "outputs": [
    {
     "name": "stdout",
     "output_type": "stream",
     "text": [
      "Accuracy of LDA classifier on training set: 0.78\n",
      "Accuracy of LDA classifier on test set: 0.75\n"
     ]
    }
   ],
   "source": [
    "from sklearn.discriminant_analysis import LinearDiscriminantAnalysis\n",
    "\n",
    "lda = LinearDiscriminantAnalysis()\n",
    "lda.fit(X_train, y_train)\n",
    "print('Accuracy of LDA classifier on training set: {:.2f}'\n",
    "     .format(lda.score(X_train, y_train)))\n",
    "print('Accuracy of LDA classifier on test set: {:.2f}'\n",
    "     .format(lda.score(X_test, y_test)))"
   ]
  },
  {
   "cell_type": "code",
   "execution_count": 67,
   "metadata": {},
   "outputs": [
    {
     "name": "stdout",
     "output_type": "stream",
     "text": [
      "Accuracy of GNB classifier on training set: 0.75\n",
      "Accuracy of GNB classifier on test set: 0.78\n"
     ]
    }
   ],
   "source": [
    "from sklearn.naive_bayes import GaussianNB\n",
    "\n",
    "gnb = GaussianNB()\n",
    "gnb.fit(X_train, y_train)\n",
    "print('Accuracy of GNB classifier on training set: {:.2f}'\n",
    "     .format(gnb.score(X_train, y_train)))\n",
    "print('Accuracy of GNB classifier on test set: {:.2f}'\n",
    "     .format(gnb.score(X_test, y_test)))"
   ]
  },
  {
   "cell_type": "code",
   "execution_count": 68,
   "metadata": {},
   "outputs": [
    {
     "name": "stdout",
     "output_type": "stream",
     "text": [
      "Accuracy of SVM classifier on training set: 0.74\n",
      "Accuracy of SVM classifier on test set: 0.76\n"
     ]
    },
    {
     "name": "stderr",
     "output_type": "stream",
     "text": [
      "C:\\Users\\16303\\Anaconda3\\lib\\site-packages\\sklearn\\svm\\base.py:193: FutureWarning: The default value of gamma will change from 'auto' to 'scale' in version 0.22 to account better for unscaled features. Set gamma explicitly to 'auto' or 'scale' to avoid this warning.\n",
      "  \"avoid this warning.\", FutureWarning)\n"
     ]
    }
   ],
   "source": [
    "from sklearn.svm import SVC\n",
    "\n",
    "svm = SVC()\n",
    "svm.fit(X_train, y_train)\n",
    "print('Accuracy of SVM classifier on training set: {:.2f}'\n",
    "     .format(svm.score(X_train, y_train)))\n",
    "print('Accuracy of SVM classifier on test set: {:.2f}'\n",
    "     .format(svm.score(X_test, y_test)))"
   ]
  },
  {
   "cell_type": "code",
   "execution_count": 69,
   "metadata": {},
   "outputs": [
    {
     "name": "stdout",
     "output_type": "stream",
     "text": [
      "[[38  0  9]\n",
      " [ 0 47 10]\n",
      " [15  4 30]]\n",
      "              precision    recall  f1-score   support\n",
      "\n",
      "        High       0.72      0.81      0.76        47\n",
      "         Low       0.92      0.82      0.87        57\n",
      "      Medium       0.61      0.61      0.61        49\n",
      "\n",
      "    accuracy                           0.75       153\n",
      "   macro avg       0.75      0.75      0.75       153\n",
      "weighted avg       0.76      0.75      0.75       153\n",
      "\n"
     ]
    }
   ],
   "source": [
    "from sklearn.metrics import classification_report\n",
    "from sklearn.metrics import confusion_matrix\n",
    "pred = lda.predict(X_test)\n",
    "print(confusion_matrix(y_test, pred))\n",
    "print(classification_report(y_test, pred))"
   ]
  },
  {
   "cell_type": "code",
   "execution_count": 70,
   "metadata": {},
   "outputs": [],
   "source": [
    "y_pred = lda.predict(X_test)"
   ]
  },
  {
   "cell_type": "code",
   "execution_count": 71,
   "metadata": {},
   "outputs": [
    {
     "name": "stdout",
     "output_type": "stream",
     "text": [
      "Accuracy: 0.7516339869281046\n"
     ]
    }
   ],
   "source": [
    "from sklearn import metrics\n",
    "print(\"Accuracy:\",metrics.accuracy_score(y_test, y_pred))"
   ]
  },
  {
   "cell_type": "code",
   "execution_count": 72,
   "metadata": {},
   "outputs": [
    {
     "data": {
      "text/plain": [
       "[Text(141.64615384615385, 190.26, 'X[3] <= 0.511\\nentropy = 0.662\\nsamples = 354\\nvalue = [112, 138, 104]'),\n",
       " Text(51.50769230769231, 135.9, 'X[1] <= 0.326\\nentropy = 0.103\\nsamples = 110\\nvalue = [0, 104, 6]'),\n",
       " Text(25.753846153846155, 81.53999999999999, 'entropy = 0.0\\nsamples = 67\\nvalue = [0, 67, 0]'),\n",
       " Text(77.26153846153846, 81.53999999999999, 'X[3] <= 0.24\\nentropy = 0.24\\nsamples = 43\\nvalue = [0, 37, 6]'),\n",
       " Text(51.50769230769231, 27.180000000000007, 'entropy = 0.444\\nsamples = 6\\nvalue = [0, 2, 4]'),\n",
       " Text(103.01538461538462, 27.180000000000007, 'entropy = 0.102\\nsamples = 37\\nvalue = [0, 35, 2]'),\n",
       " Text(231.7846153846154, 135.9, 'X[3] <= 0.745\\nentropy = 0.609\\nsamples = 244\\nvalue = [112, 34, 98]'),\n",
       " Text(180.27692307692308, 81.53999999999999, 'X[2] <= 0.629\\nentropy = 0.607\\nsamples = 150\\nvalue = [36, 34, 80]'),\n",
       " Text(154.52307692307693, 27.180000000000007, 'entropy = 0.34\\nsamples = 23\\nvalue = [0, 18, 5]'),\n",
       " Text(206.03076923076924, 27.180000000000007, 'entropy = 0.555\\nsamples = 127\\nvalue = [36, 16, 75]'),\n",
       " Text(283.2923076923077, 81.53999999999999, 'X[2] <= 0.785\\nentropy = 0.31\\nsamples = 94\\nvalue = [76, 0, 18]'),\n",
       " Text(257.53846153846155, 27.180000000000007, 'entropy = 0.231\\nsamples = 15\\nvalue = [2, 0, 13]'),\n",
       " Text(309.04615384615386, 27.180000000000007, 'entropy = 0.119\\nsamples = 79\\nvalue = [74, 0, 5]')]"
      ]
     },
     "execution_count": 72,
     "metadata": {},
     "output_type": "execute_result"
    },
    {
     "data": {
      "image/png": "[encoded data removed]",
      "text/plain": [
       "<Figure size 432x288 with 1 Axes>"
      ]
     },
     "metadata": {
      "needs_background": "light"
     },
     "output_type": "display_data"
    }
   ],
   "source": [
    "\n",
    "from sklearn import tree\n",
    "tree.plot_tree(clf2.fit(X_train, y_train)) "
   ]
  },
  {
   "cell_type": "code",
   "execution_count": 73,
   "metadata": {},
   "outputs": [],
   "source": [
    "feature_names=list(X.columns) "
   ]
  },
  {
   "cell_type": "code",
   "execution_count": 75,
   "metadata": {},
   "outputs": [
    {
     "data": {
      "image/svg+xml": [
       "<?xml version=\"1.0\" encoding=\"UTF-8\" standalone=\"no\"?>\r\n",
       "<!DOCTYPE svg PUBLIC \"-//W3C//DTD SVG 1.1//EN\"\r\n",
       " \"http://www.w3.org/Graphics/SVG/1.1/DTD/svg11.dtd\">\r\n",
       "<!-- Generated by graphviz version 2.38.0 (20140413.2041)\r\n",
       " -->\r\n",
       "<!-- Title: Tree Pages: 1 -->\r\n",
       "<svg width=\"905pt\" height=\"433pt\"\r\n",
       " viewBox=\"0.00 0.00 905.00 433.00\" xmlns=\"http://www.w3.org/2000/svg\" xmlns:xlink=\"http://www.w3.org/1999/xlink\">\r\n",
       "<g id=\"graph0\" class=\"graph\" transform=\"scale(1 1) rotate(0) translate(4 429)\">\r\n",
       "<title>Tree</title>\r\n",
       "<polygon fill=\"white\" stroke=\"none\" points=\"-4,4 -4,-429 901,-429 901,4 -4,4\"/>\r\n",
       "<!-- 0 -->\r\n",
       "<g id=\"node1\" class=\"node\"><title>0</title>\r\n",
       "<path fill=\"#eafcf1\" stroke=\"black\" d=\"M507,-425C507,-425 272,-425 272,-425 266,-425 260,-419 260,-413 260,-413 260,-354 260,-354 260,-348 266,-342 272,-342 272,-342 507,-342 507,-342 513,-342 519,-348 519,-354 519,-354 519,-413 519,-413 519,-419 513,-425 507,-425\"/>\r\n",
       "<text text-anchor=\"start\" x=\"268\" y=\"-409.8\" font-family=\"Helvetica,sans-Serif\" font-size=\"14.00\">Healthy life expectancy at birth ≤ 0.511</text>\r\n",
       "<text text-anchor=\"start\" x=\"352\" y=\"-394.8\" font-family=\"Helvetica,sans-Serif\" font-size=\"14.00\">gini = 0.662</text>\r\n",
       "<text text-anchor=\"start\" x=\"342\" y=\"-379.8\" font-family=\"Helvetica,sans-Serif\" font-size=\"14.00\">samples = 354</text>\r\n",
       "<text text-anchor=\"start\" x=\"316.5\" y=\"-364.8\" font-family=\"Helvetica,sans-Serif\" font-size=\"14.00\">value = [112, 138, 104]</text>\r\n",
       "<text text-anchor=\"start\" x=\"339.5\" y=\"-349.8\" font-family=\"Helvetica,sans-Serif\" font-size=\"14.00\">class = medium</text>\r\n",
       "</g>\r\n",
       "<!-- 1 -->\r\n",
       "<g id=\"node2\" class=\"node\"><title>1</title>\r\n",
       "<path fill=\"#44e688\" stroke=\"black\" d=\"M349.5,-306C349.5,-306 179.5,-306 179.5,-306 173.5,-306 167.5,-300 167.5,-294 167.5,-294 167.5,-235 167.5,-235 167.5,-229 173.5,-223 179.5,-223 179.5,-223 349.5,-223 349.5,-223 355.5,-223 361.5,-229 361.5,-235 361.5,-235 361.5,-294 361.5,-294 361.5,-300 355.5,-306 349.5,-306\"/>\r\n",
       "<text text-anchor=\"start\" x=\"175.5\" y=\"-290.8\" font-family=\"Helvetica,sans-Serif\" font-size=\"14.00\">Log GDP per capita ≤ 0.326</text>\r\n",
       "<text text-anchor=\"start\" x=\"227\" y=\"-275.8\" font-family=\"Helvetica,sans-Serif\" font-size=\"14.00\">gini = 0.103</text>\r\n",
       "<text text-anchor=\"start\" x=\"217\" y=\"-260.8\" font-family=\"Helvetica,sans-Serif\" font-size=\"14.00\">samples = 110</text>\r\n",
       "<text text-anchor=\"start\" x=\"208\" y=\"-245.8\" font-family=\"Helvetica,sans-Serif\" font-size=\"14.00\">value = [0, 104, 6]</text>\r\n",
       "<text text-anchor=\"start\" x=\"214.5\" y=\"-230.8\" font-family=\"Helvetica,sans-Serif\" font-size=\"14.00\">class = medium</text>\r\n",
       "</g>\r\n",
       "<!-- 0&#45;&gt;1 -->\r\n",
       "<g id=\"edge1\" class=\"edge\"><title>0&#45;&gt;1</title>\r\n",
       "<path fill=\"none\" stroke=\"black\" d=\"M346.132,-341.907C336.145,-332.56 325.438,-322.538 315.172,-312.929\"/>\r\n",
       "<polygon fill=\"black\" stroke=\"black\" points=\"317.484,-310.299 307.791,-306.021 312.701,-315.41 317.484,-310.299\"/>\r\n",
       "<text text-anchor=\"middle\" x=\"308.617\" y=\"-327.307\" font-family=\"Helvetica,sans-Serif\" font-size=\"14.00\">True</text>\r\n",
       "</g>\r\n",
       "<!-- 6 -->\r\n",
       "<g id=\"node7\" class=\"node\"><title>6</title>\r\n",
       "<path fill=\"#fdf3ec\" stroke=\"black\" d=\"M632,-306C632,-306 397,-306 397,-306 391,-306 385,-300 385,-294 385,-294 385,-235 385,-235 385,-229 391,-223 397,-223 397,-223 632,-223 632,-223 638,-223 644,-229 644,-235 644,-235 644,-294 644,-294 644,-300 638,-306 632,-306\"/>\r\n",
       "<text text-anchor=\"start\" x=\"393\" y=\"-290.8\" font-family=\"Helvetica,sans-Serif\" font-size=\"14.00\">Healthy life expectancy at birth ≤ 0.745</text>\r\n",
       "<text text-anchor=\"start\" x=\"477\" y=\"-275.8\" font-family=\"Helvetica,sans-Serif\" font-size=\"14.00\">gini = 0.609</text>\r\n",
       "<text text-anchor=\"start\" x=\"467\" y=\"-260.8\" font-family=\"Helvetica,sans-Serif\" font-size=\"14.00\">samples = 244</text>\r\n",
       "<text text-anchor=\"start\" x=\"449.5\" y=\"-245.8\" font-family=\"Helvetica,sans-Serif\" font-size=\"14.00\">value = [112, 34, 98]</text>\r\n",
       "<text text-anchor=\"start\" x=\"479.5\" y=\"-230.8\" font-family=\"Helvetica,sans-Serif\" font-size=\"14.00\">class = low</text>\r\n",
       "</g>\r\n",
       "<!-- 0&#45;&gt;6 -->\r\n",
       "<g id=\"edge6\" class=\"edge\"><title>0&#45;&gt;6</title>\r\n",
       "<path fill=\"none\" stroke=\"black\" d=\"M432.868,-341.907C442.855,-332.56 453.562,-322.538 463.828,-312.929\"/>\r\n",
       "<polygon fill=\"black\" stroke=\"black\" points=\"466.299,-315.41 471.209,-306.021 461.516,-310.299 466.299,-315.41\"/>\r\n",
       "<text text-anchor=\"middle\" x=\"470.383\" y=\"-327.307\" font-family=\"Helvetica,sans-Serif\" font-size=\"14.00\">False</text>\r\n",
       "</g>\r\n",
       "<!-- 2 -->\r\n",
       "<g id=\"node3\" class=\"node\"><title>2</title>\r\n",
       "<path fill=\"#39e581\" stroke=\"black\" d=\"M109,-179.5C109,-179.5 12,-179.5 12,-179.5 6,-179.5 0,-173.5 0,-167.5 0,-167.5 0,-123.5 0,-123.5 0,-117.5 6,-111.5 12,-111.5 12,-111.5 109,-111.5 109,-111.5 115,-111.5 121,-117.5 121,-123.5 121,-123.5 121,-167.5 121,-167.5 121,-173.5 115,-179.5 109,-179.5\"/>\r\n",
       "<text text-anchor=\"start\" x=\"31.5\" y=\"-164.3\" font-family=\"Helvetica,sans-Serif\" font-size=\"14.00\">gini = 0.0</text>\r\n",
       "<text text-anchor=\"start\" x=\"17\" y=\"-149.3\" font-family=\"Helvetica,sans-Serif\" font-size=\"14.00\">samples = 67</text>\r\n",
       "<text text-anchor=\"start\" x=\"8\" y=\"-134.3\" font-family=\"Helvetica,sans-Serif\" font-size=\"14.00\">value = [0, 67, 0]</text>\r\n",
       "<text text-anchor=\"start\" x=\"10.5\" y=\"-119.3\" font-family=\"Helvetica,sans-Serif\" font-size=\"14.00\">class = medium</text>\r\n",
       "</g>\r\n",
       "<!-- 1&#45;&gt;2 -->\r\n",
       "<g id=\"edge2\" class=\"edge\"><title>1&#45;&gt;2</title>\r\n",
       "<path fill=\"none\" stroke=\"black\" d=\"M192.221,-222.81C171.897,-211.296 149.802,-198.71 129.5,-187 128.184,-186.241 126.854,-185.473 125.515,-184.698\"/>\r\n",
       "<polygon fill=\"black\" stroke=\"black\" points=\"126.974,-181.498 116.568,-179.505 123.46,-187.552 126.974,-181.498\"/>\r\n",
       "</g>\r\n",
       "<!-- 3 -->\r\n",
       "<g id=\"node4\" class=\"node\"><title>3</title>\r\n",
       "<path fill=\"#59e995\" stroke=\"black\" d=\"M378,-187C378,-187 151,-187 151,-187 145,-187 139,-181 139,-175 139,-175 139,-116 139,-116 139,-110 145,-104 151,-104 151,-104 378,-104 378,-104 384,-104 390,-110 390,-116 390,-116 390,-175 390,-175 390,-181 384,-187 378,-187\"/>\r\n",
       "<text text-anchor=\"start\" x=\"147\" y=\"-171.8\" font-family=\"Helvetica,sans-Serif\" font-size=\"14.00\">Healthy life expectancy at birth ≤ 0.24</text>\r\n",
       "<text text-anchor=\"start\" x=\"231\" y=\"-156.8\" font-family=\"Helvetica,sans-Serif\" font-size=\"14.00\">gini = 0.24</text>\r\n",
       "<text text-anchor=\"start\" x=\"221\" y=\"-141.8\" font-family=\"Helvetica,sans-Serif\" font-size=\"14.00\">samples = 43</text>\r\n",
       "<text text-anchor=\"start\" x=\"212\" y=\"-126.8\" font-family=\"Helvetica,sans-Serif\" font-size=\"14.00\">value = [0, 37, 6]</text>\r\n",
       "<text text-anchor=\"start\" x=\"214.5\" y=\"-111.8\" font-family=\"Helvetica,sans-Serif\" font-size=\"14.00\">class = medium</text>\r\n",
       "</g>\r\n",
       "<!-- 1&#45;&gt;3 -->\r\n",
       "<g id=\"edge3\" class=\"edge\"><title>1&#45;&gt;3</title>\r\n",
       "<path fill=\"none\" stroke=\"black\" d=\"M264.5,-222.907C264.5,-214.649 264.5,-205.864 264.5,-197.302\"/>\r\n",
       "<polygon fill=\"black\" stroke=\"black\" points=\"268,-197.021 264.5,-187.021 261,-197.021 268,-197.021\"/>\r\n",
       "</g>\r\n",
       "<!-- 4 -->\r\n",
       "<g id=\"node5\" class=\"node\"><title>4</title>\r\n",
       "<path fill=\"#c09cf2\" stroke=\"black\" d=\"M174,-68C174,-68 85,-68 85,-68 79,-68 73,-62 73,-56 73,-56 73,-12 73,-12 73,-6 79,-0 85,-0 85,-0 174,-0 174,-0 180,-0 186,-6 186,-12 186,-12 186,-56 186,-56 186,-62 180,-68 174,-68\"/>\r\n",
       "<text text-anchor=\"start\" x=\"92\" y=\"-52.8\" font-family=\"Helvetica,sans-Serif\" font-size=\"14.00\">gini = 0.444</text>\r\n",
       "<text text-anchor=\"start\" x=\"90\" y=\"-37.8\" font-family=\"Helvetica,sans-Serif\" font-size=\"14.00\">samples = 6</text>\r\n",
       "<text text-anchor=\"start\" x=\"81\" y=\"-22.8\" font-family=\"Helvetica,sans-Serif\" font-size=\"14.00\">value = [0, 2, 4]</text>\r\n",
       "<text text-anchor=\"start\" x=\"91.5\" y=\"-7.8\" font-family=\"Helvetica,sans-Serif\" font-size=\"14.00\">class = high</text>\r\n",
       "</g>\r\n",
       "<!-- 3&#45;&gt;4 -->\r\n",
       "<g id=\"edge4\" class=\"edge\"><title>3&#45;&gt;4</title>\r\n",
       "<path fill=\"none\" stroke=\"black\" d=\"M214.231,-103.726C202.536,-94.2406 190.102,-84.1551 178.465,-74.7159\"/>\r\n",
       "<polygon fill=\"black\" stroke=\"black\" points=\"180.526,-71.8808 170.554,-68.2996 176.116,-77.3173 180.526,-71.8808\"/>\r\n",
       "</g>\r\n",
       "<!-- 5 -->\r\n",
       "<g id=\"node6\" class=\"node\"><title>5</title>\r\n",
       "<path fill=\"#44e688\" stroke=\"black\" d=\"M313,-68C313,-68 216,-68 216,-68 210,-68 204,-62 204,-56 204,-56 204,-12 204,-12 204,-6 210,-0 216,-0 216,-0 313,-0 313,-0 319,-0 325,-6 325,-12 325,-12 325,-56 325,-56 325,-62 319,-68 313,-68\"/>\r\n",
       "<text text-anchor=\"start\" x=\"227\" y=\"-52.8\" font-family=\"Helvetica,sans-Serif\" font-size=\"14.00\">gini = 0.102</text>\r\n",
       "<text text-anchor=\"start\" x=\"221\" y=\"-37.8\" font-family=\"Helvetica,sans-Serif\" font-size=\"14.00\">samples = 37</text>\r\n",
       "<text text-anchor=\"start\" x=\"212\" y=\"-22.8\" font-family=\"Helvetica,sans-Serif\" font-size=\"14.00\">value = [0, 35, 2]</text>\r\n",
       "<text text-anchor=\"start\" x=\"214.5\" y=\"-7.8\" font-family=\"Helvetica,sans-Serif\" font-size=\"14.00\">class = medium</text>\r\n",
       "</g>\r\n",
       "<!-- 3&#45;&gt;5 -->\r\n",
       "<g id=\"edge5\" class=\"edge\"><title>3&#45;&gt;5</title>\r\n",
       "<path fill=\"none\" stroke=\"black\" d=\"M264.5,-103.726C264.5,-95.5175 264.5,-86.8595 264.5,-78.56\"/>\r\n",
       "<polygon fill=\"black\" stroke=\"black\" points=\"268,-78.2996 264.5,-68.2996 261,-78.2996 268,-78.2996\"/>\r\n",
       "</g>\r\n",
       "<!-- 7 -->\r\n",
       "<g id=\"node8\" class=\"node\"><title>7</title>\r\n",
       "<path fill=\"#ceb3f5\" stroke=\"black\" d=\"M582,-187C582,-187 447,-187 447,-187 441,-187 435,-181 435,-175 435,-175 435,-116 435,-116 435,-110 441,-104 447,-104 447,-104 582,-104 582,-104 588,-104 594,-110 594,-116 594,-116 594,-175 594,-175 594,-181 588,-187 582,-187\"/>\r\n",
       "<text text-anchor=\"start\" x=\"443\" y=\"-171.8\" font-family=\"Helvetica,sans-Serif\" font-size=\"14.00\">Social support ≤ 0.629</text>\r\n",
       "<text text-anchor=\"start\" x=\"477\" y=\"-156.8\" font-family=\"Helvetica,sans-Serif\" font-size=\"14.00\">gini = 0.607</text>\r\n",
       "<text text-anchor=\"start\" x=\"467\" y=\"-141.8\" font-family=\"Helvetica,sans-Serif\" font-size=\"14.00\">samples = 150</text>\r\n",
       "<text text-anchor=\"start\" x=\"454\" y=\"-126.8\" font-family=\"Helvetica,sans-Serif\" font-size=\"14.00\">value = [36, 34, 80]</text>\r\n",
       "<text text-anchor=\"start\" x=\"476.5\" y=\"-111.8\" font-family=\"Helvetica,sans-Serif\" font-size=\"14.00\">class = high</text>\r\n",
       "</g>\r\n",
       "<!-- 6&#45;&gt;7 -->\r\n",
       "<g id=\"edge7\" class=\"edge\"><title>6&#45;&gt;7</title>\r\n",
       "<path fill=\"none\" stroke=\"black\" d=\"M514.5,-222.907C514.5,-214.649 514.5,-205.864 514.5,-197.302\"/>\r\n",
       "<polygon fill=\"black\" stroke=\"black\" points=\"518,-197.021 514.5,-187.021 511,-197.021 518,-197.021\"/>\r\n",
       "</g>\r\n",
       "<!-- 10 -->\r\n",
       "<g id=\"node11\" class=\"node\"><title>10</title>\r\n",
       "<path fill=\"#eb9f68\" stroke=\"black\" d=\"M765,-187C765,-187 630,-187 630,-187 624,-187 618,-181 618,-175 618,-175 618,-116 618,-116 618,-110 624,-104 630,-104 630,-104 765,-104 765,-104 771,-104 777,-110 777,-116 777,-116 777,-175 777,-175 777,-181 771,-187 765,-187\"/>\r\n",
       "<text text-anchor=\"start\" x=\"626\" y=\"-171.8\" font-family=\"Helvetica,sans-Serif\" font-size=\"14.00\">Social support ≤ 0.785</text>\r\n",
       "<text text-anchor=\"start\" x=\"664\" y=\"-156.8\" font-family=\"Helvetica,sans-Serif\" font-size=\"14.00\">gini = 0.31</text>\r\n",
       "<text text-anchor=\"start\" x=\"654\" y=\"-141.8\" font-family=\"Helvetica,sans-Serif\" font-size=\"14.00\">samples = 94</text>\r\n",
       "<text text-anchor=\"start\" x=\"641\" y=\"-126.8\" font-family=\"Helvetica,sans-Serif\" font-size=\"14.00\">value = [76, 0, 18]</text>\r\n",
       "<text text-anchor=\"start\" x=\"662.5\" y=\"-111.8\" font-family=\"Helvetica,sans-Serif\" font-size=\"14.00\">class = low</text>\r\n",
       "</g>\r\n",
       "<!-- 6&#45;&gt;10 -->\r\n",
       "<g id=\"edge10\" class=\"edge\"><title>6&#45;&gt;10</title>\r\n",
       "<path fill=\"none\" stroke=\"black\" d=\"M577.991,-222.907C593.321,-213.106 609.812,-202.563 625.5,-192.533\"/>\r\n",
       "<polygon fill=\"black\" stroke=\"black\" points=\"627.581,-195.356 634.121,-187.021 623.811,-189.459 627.581,-195.356\"/>\r\n",
       "</g>\r\n",
       "<!-- 8 -->\r\n",
       "<g id=\"node9\" class=\"node\"><title>8</title>\r\n",
       "<path fill=\"#70eca4\" stroke=\"black\" d=\"M452,-68C452,-68 355,-68 355,-68 349,-68 343,-62 343,-56 343,-56 343,-12 343,-12 343,-6 349,-0 355,-0 355,-0 452,-0 452,-0 458,-0 464,-6 464,-12 464,-12 464,-56 464,-56 464,-62 458,-68 452,-68\"/>\r\n",
       "<text text-anchor=\"start\" x=\"370\" y=\"-52.8\" font-family=\"Helvetica,sans-Serif\" font-size=\"14.00\">gini = 0.34</text>\r\n",
       "<text text-anchor=\"start\" x=\"360\" y=\"-37.8\" font-family=\"Helvetica,sans-Serif\" font-size=\"14.00\">samples = 23</text>\r\n",
       "<text text-anchor=\"start\" x=\"351\" y=\"-22.8\" font-family=\"Helvetica,sans-Serif\" font-size=\"14.00\">value = [0, 18, 5]</text>\r\n",
       "<text text-anchor=\"start\" x=\"353.5\" y=\"-7.8\" font-family=\"Helvetica,sans-Serif\" font-size=\"14.00\">class = medium</text>\r\n",
       "</g>\r\n",
       "<!-- 7&#45;&gt;8 -->\r\n",
       "<g id=\"edge8\" class=\"edge\"><title>7&#45;&gt;8</title>\r\n",
       "<path fill=\"none\" stroke=\"black\" d=\"M473.168,-103.726C463.829,-94.5142 453.918,-84.7364 444.59,-75.5343\"/>\r\n",
       "<polygon fill=\"black\" stroke=\"black\" points=\"446.833,-72.8308 437.256,-68.2996 441.917,-77.8141 446.833,-72.8308\"/>\r\n",
       "</g>\r\n",
       "<!-- 9 -->\r\n",
       "<g id=\"node10\" class=\"node\"><title>9</title>\r\n",
       "<path fill=\"#c9aaf4\" stroke=\"black\" d=\"M607,-68C607,-68 494,-68 494,-68 488,-68 482,-62 482,-56 482,-56 482,-12 482,-12 482,-6 488,-0 494,-0 494,-0 607,-0 607,-0 613,-0 619,-6 619,-12 619,-12 619,-56 619,-56 619,-62 613,-68 607,-68\"/>\r\n",
       "<text text-anchor=\"start\" x=\"513\" y=\"-52.8\" font-family=\"Helvetica,sans-Serif\" font-size=\"14.00\">gini = 0.555</text>\r\n",
       "<text text-anchor=\"start\" x=\"503\" y=\"-37.8\" font-family=\"Helvetica,sans-Serif\" font-size=\"14.00\">samples = 127</text>\r\n",
       "<text text-anchor=\"start\" x=\"490\" y=\"-22.8\" font-family=\"Helvetica,sans-Serif\" font-size=\"14.00\">value = [36, 16, 75]</text>\r\n",
       "<text text-anchor=\"start\" x=\"512.5\" y=\"-7.8\" font-family=\"Helvetica,sans-Serif\" font-size=\"14.00\">class = high</text>\r\n",
       "</g>\r\n",
       "<!-- 7&#45;&gt;9 -->\r\n",
       "<g id=\"edge9\" class=\"edge\"><title>7&#45;&gt;9</title>\r\n",
       "<path fill=\"none\" stroke=\"black\" d=\"M527.905,-103.726C530.664,-95.3351 533.577,-86.4745 536.361,-78.0072\"/>\r\n",
       "<polygon fill=\"black\" stroke=\"black\" points=\"539.754,-78.8925 539.552,-68.2996 533.104,-76.7062 539.754,-78.8925\"/>\r\n",
       "</g>\r\n",
       "<!-- 11 -->\r\n",
       "<g id=\"node12\" class=\"node\"><title>11</title>\r\n",
       "<path fill=\"#9457e9\" stroke=\"black\" d=\"M746,-68C746,-68 649,-68 649,-68 643,-68 637,-62 637,-56 637,-56 637,-12 637,-12 637,-6 643,-0 649,-0 649,-0 746,-0 746,-0 752,-0 758,-6 758,-12 758,-12 758,-56 758,-56 758,-62 752,-68 746,-68\"/>\r\n",
       "<text text-anchor=\"start\" x=\"660\" y=\"-52.8\" font-family=\"Helvetica,sans-Serif\" font-size=\"14.00\">gini = 0.231</text>\r\n",
       "<text text-anchor=\"start\" x=\"654\" y=\"-37.8\" font-family=\"Helvetica,sans-Serif\" font-size=\"14.00\">samples = 15</text>\r\n",
       "<text text-anchor=\"start\" x=\"645\" y=\"-22.8\" font-family=\"Helvetica,sans-Serif\" font-size=\"14.00\">value = [2, 0, 13]</text>\r\n",
       "<text text-anchor=\"start\" x=\"659.5\" y=\"-7.8\" font-family=\"Helvetica,sans-Serif\" font-size=\"14.00\">class = high</text>\r\n",
       "</g>\r\n",
       "<!-- 10&#45;&gt;11 -->\r\n",
       "<g id=\"edge11\" class=\"edge\"><title>10&#45;&gt;11</title>\r\n",
       "<path fill=\"none\" stroke=\"black\" d=\"M697.5,-103.726C697.5,-95.5175 697.5,-86.8595 697.5,-78.56\"/>\r\n",
       "<polygon fill=\"black\" stroke=\"black\" points=\"701,-78.2996 697.5,-68.2996 694,-78.2996 701,-78.2996\"/>\r\n",
       "</g>\r\n",
       "<!-- 12 -->\r\n",
       "<g id=\"node13\" class=\"node\"><title>12</title>\r\n",
       "<path fill=\"#e78a46\" stroke=\"black\" d=\"M885,-68C885,-68 788,-68 788,-68 782,-68 776,-62 776,-56 776,-56 776,-12 776,-12 776,-6 782,-0 788,-0 788,-0 885,-0 885,-0 891,-0 897,-6 897,-12 897,-12 897,-56 897,-56 897,-62 891,-68 885,-68\"/>\r\n",
       "<text text-anchor=\"start\" x=\"799\" y=\"-52.8\" font-family=\"Helvetica,sans-Serif\" font-size=\"14.00\">gini = 0.119</text>\r\n",
       "<text text-anchor=\"start\" x=\"793\" y=\"-37.8\" font-family=\"Helvetica,sans-Serif\" font-size=\"14.00\">samples = 79</text>\r\n",
       "<text text-anchor=\"start\" x=\"784\" y=\"-22.8\" font-family=\"Helvetica,sans-Serif\" font-size=\"14.00\">value = [74, 0, 5]</text>\r\n",
       "<text text-anchor=\"start\" x=\"801.5\" y=\"-7.8\" font-family=\"Helvetica,sans-Serif\" font-size=\"14.00\">class = low</text>\r\n",
       "</g>\r\n",
       "<!-- 10&#45;&gt;12 -->\r\n",
       "<g id=\"edge12\" class=\"edge\"><title>10&#45;&gt;12</title>\r\n",
       "<path fill=\"none\" stroke=\"black\" d=\"M749.258,-103.726C761.3,-94.2406 774.102,-84.1551 786.084,-74.7159\"/>\r\n",
       "<polygon fill=\"black\" stroke=\"black\" points=\"788.54,-77.2372 794.229,-68.2996 784.208,-71.7385 788.54,-77.2372\"/>\r\n",
       "</g>\r\n",
       "</g>\r\n",
       "</svg>\r\n"
      ],
      "text/plain": [
       "<graphviz.files.Source at 0x1d339fdf5f8>"
      ]
     },
     "execution_count": 75,
     "metadata": {},
     "output_type": "execute_result"
    }
   ],
   "source": [
    "import graphviz\n",
    "dot_data = tree.export_graphviz(clf2, out_file=None, \n",
    "                     feature_names=feature_names,  \n",
    "                     class_names=['low','medium','high'],  \n",
    "                     filled=True, rounded=True,  \n",
    "                     special_characters=True)  \n",
    "graph = graphviz.Source(dot_data)  \n",
    "graph "
   ]
  },
  {
   "cell_type": "code",
   "execution_count": 25,
   "metadata": {},
   "outputs": [],
   "source": [
    "train, validation = train_test_split(df, test_size=0.50, random_state = 5)"
   ]
  },
  {
   "cell_type": "code",
   "execution_count": 26,
   "metadata": {},
   "outputs": [
    {
     "name": "stdout",
     "output_type": "stream",
     "text": [
      "(354, 9) (354,)\n",
      "(153, 9) (153,)\n"
     ]
    }
   ],
   "source": [
    "print (X_train.shape, y_train.shape)\n",
    "print (X_test.shape, y_test.shape)"
   ]
  },
  {
   "cell_type": "code",
   "execution_count": null,
   "metadata": {},
   "outputs": [],
   "source": []
  },
  {
   "cell_type": "code",
   "execution_count": 27,
   "metadata": {},
   "outputs": [],
   "source": [
    "Change = {'Low': 0,'Medium': 1,'High':2}\n",
    "df['Happiness Scale'] = [Change[item] for item in df['Happiness Scale']] "
   ]
  },
  {
   "cell_type": "code",
   "execution_count": 28,
   "metadata": {},
   "outputs": [],
   "source": [
    "X = df.drop(['Happiness Scale','Country name','Happiness Index'],axis=1)\n",
    "y = df['Happiness Scale']"
   ]
  },
  {
   "cell_type": "code",
   "execution_count": 29,
   "metadata": {},
   "outputs": [],
   "source": [
    "from sklearn.model_selection import train_test_split\n",
    "\n",
    "#X_train, X_test, y_train, y_test = train_test_split(X, y, random_state=0)\n",
    "X_train, X_test, y_train, y_test = train_test_split(X, y, test_size=0.3, random_state=1)"
   ]
  },
  {
   "cell_type": "code",
   "execution_count": 30,
   "metadata": {},
   "outputs": [],
   "source": [
    "from sklearn import datasets, linear_model\n",
    "from sklearn.model_selection import train_test_split\n",
    "lm = linear_model.LinearRegression()\n",
    "model = lm.fit(X_train, y_train)\n",
    "predictions = lm.predict(X_test)"
   ]
  },
  {
   "cell_type": "code",
   "execution_count": 31,
   "metadata": {},
   "outputs": [
    {
     "data": {
      "text/plain": [
       "array([ 1.86350439,  1.23557846,  0.57761114, -0.47115128,  0.76764905])"
      ]
     },
     "execution_count": 31,
     "metadata": {},
     "output_type": "execute_result"
    }
   ],
   "source": [
    "predictions[0:5]"
   ]
  },
  {
   "cell_type": "code",
   "execution_count": 32,
   "metadata": {},
   "outputs": [
    {
     "data": {
      "text/plain": [
       "<matplotlib.collections.PathCollection at 0x1d339f78978>"
      ]
     },
     "execution_count": 32,
     "metadata": {},
     "output_type": "execute_result"
    },
    {
     "data": {
      "image/png": "[encoded data removed]",
      "text/plain": [
       "<Figure size 432x288 with 1 Axes>"
      ]
     },
     "metadata": {
      "needs_background": "light"
     },
     "output_type": "display_data"
    }
   ],
   "source": [
    "plt.scatter(y_test, predictions)"
   ]
  },
  {
   "cell_type": "code",
   "execution_count": 47,
   "metadata": {},
   "outputs": [
    {
     "name": "stdout",
     "output_type": "stream",
     "text": [
      "KFold(n_splits=2, random_state=None, shuffle=False)\n"
     ]
    }
   ],
   "source": [
    "from sklearn.model_selection import KFold\n",
    "kf = KFold(n_splits=2) # Define the split - into 2 folds \n",
    "kf.get_n_splits(X) # returns the number of splitting iterations in the cross-validator\n",
    "print(kf) "
   ]
  },
  {
   "cell_type": "code",
   "execution_count": 48,
   "metadata": {},
   "outputs": [],
   "source": [
    "from sklearn.model_selection import KFold\n",
    "from sklearn.preprocessing import MinMaxScaler\n",
    "from sklearn.svm import SVR\n",
    "scaler = MinMaxScaler(feature_range=(0, 1))\n",
    "X = scaler.fit_transform(X)"
   ]
  },
  {
   "cell_type": "code",
   "execution_count": 78,
   "metadata": {},
   "outputs": [],
   "source": []
  },
  {
   "cell_type": "code",
   "execution_count": 80,
   "metadata": {},
   "outputs": [],
   "source": []
  },
  {
   "cell_type": "code",
   "execution_count": null,
   "metadata": {},
   "outputs": [],
   "source": []
  }
 ],
 "metadata": {
  "kernelspec": {
   "display_name": "Python 3",
   "language": "python",
   "name": "python3"
  },
  "language_info": {
   "codemirror_mode": {
    "name": "ipython",
    "version": 3
   },
   "file_extension": ".py",
   "mimetype": "text/x-python",
   "name": "python",
   "nbconvert_exporter": "python",
   "pygments_lexer": "ipython3",
   "version": "3.7.3"
  }
 },
 "nbformat": 4,
 "nbformat_minor": 2
}
